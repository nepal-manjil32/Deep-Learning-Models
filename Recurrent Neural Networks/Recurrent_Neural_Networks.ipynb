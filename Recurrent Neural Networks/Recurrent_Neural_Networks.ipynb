{
  "nbformat": 4,
  "nbformat_minor": 0,
  "metadata": {
    "colab": {
      "provenance": [],
      "collapsed_sections": [
        "ZRRSOJeVjEWV",
        "4hRau_lIkrE8"
      ]
    },
    "kernelspec": {
      "name": "python3",
      "display_name": "Python 3"
    }
  },
  "cells": [
    {
      "cell_type": "markdown",
      "metadata": {
        "id": "xpAuMVCwfWs8"
      },
      "source": [
        "**<font size='+3' color='green'>Recurrent Neural Networks</font>**"
      ]
    },
    {
      "cell_type": "markdown",
      "metadata": {
        "id": "nxJfRe4bfYVA"
      },
      "source": [
        "## Part 1 - Data Preprocessing"
      ]
    },
    {
      "cell_type": "markdown",
      "metadata": {
        "id": "ir9zwETrfbrp"
      },
      "source": [
        "### Importing the libraries"
      ]
    },
    {
      "cell_type": "code",
      "source": [
        "import numpy as np\n",
        "import matplotlib.pyplot as plt\n",
        "import pandas as pd"
      ],
      "metadata": {
        "id": "Wev-Xd0Kfd1R"
      },
      "execution_count": 1,
      "outputs": []
    },
    {
      "cell_type": "markdown",
      "metadata": {
        "id": "nQ47JAxrgmaL"
      },
      "source": [
        "### Importing the training set"
      ]
    },
    {
      "cell_type": "code",
      "metadata": {
        "id": "1xiv3pJOgqY3"
      },
      "source": [
        "dataset_train = pd.read_csv('Google_Stock_Price_Train.csv')\n",
        "training_set = dataset_train.iloc[:, 1:2].values"
      ],
      "execution_count": 2,
      "outputs": []
    },
    {
      "cell_type": "markdown",
      "metadata": {
        "id": "HT8_2UJegtG5"
      },
      "source": [
        "### Feature Scaling"
      ]
    },
    {
      "cell_type": "markdown",
      "source": [
        "##### Normalisation is recommended to be used for RNNs especially when there is a sigmoid function in the optput layer.\n",
        "$$\n",
        "X_{\\text{norm}} = \\frac{X - \\min(X)}{\\max(X) - \\min(X)}\n",
        "$$\n",
        "\n"
      ],
      "metadata": {
        "id": "hTmV0Qkfg2u2"
      }
    },
    {
      "cell_type": "code",
      "source": [
        "from sklearn.preprocessing import MinMaxScaler\n",
        "\n",
        "sc = MinMaxScaler(feature_range = (0, 1))\n",
        "training_set_scaled = sc.fit_transform(training_set)"
      ],
      "metadata": {
        "id": "t6ZvI7Pvh8CP"
      },
      "execution_count": 3,
      "outputs": []
    },
    {
      "cell_type": "code",
      "source": [
        "print(training_set_scaled)"
      ],
      "metadata": {
        "colab": {
          "base_uri": "https://localhost:8080/"
        },
        "id": "Z3TpdQKPih2T",
        "outputId": "580430f1-e66f-44d0-eecc-cffc7e54c1cb"
      },
      "execution_count": 4,
      "outputs": [
        {
          "output_type": "stream",
          "name": "stdout",
          "text": [
            "[[0.08581368]\n",
            " [0.09701243]\n",
            " [0.09433366]\n",
            " ...\n",
            " [0.95725128]\n",
            " [0.93796041]\n",
            " [0.93688146]]\n"
          ]
        }
      ]
    },
    {
      "cell_type": "code",
      "source": [
        "print(training_set_scaled.shape)"
      ],
      "metadata": {
        "colab": {
          "base_uri": "https://localhost:8080/"
        },
        "id": "jEcFrv17kzn8",
        "outputId": "ca225194-d5ef-4b3e-c78b-c629e994905a"
      },
      "execution_count": 5,
      "outputs": [
        {
          "output_type": "stream",
          "name": "stdout",
          "text": [
            "(1258, 1)\n"
          ]
        }
      ]
    },
    {
      "cell_type": "markdown",
      "metadata": {
        "id": "JyYgYocqhNUg"
      },
      "source": [
        "### Creating a data structure with 60 timesteps and 1 output\n",
        "- 60 timesteps means what the RNNs will remember the 60 stock prices of days before current time 't' and based on these it will try to predict the next output i.e the stock price of time 't+1'"
      ]
    },
    {
      "cell_type": "code",
      "source": [
        "X_train = []\n",
        "y_train = []\n",
        "\n",
        "# We want to append 60 previous stock prices before the stock price on day 'i'\n",
        "for i in range(60, 1258):\n",
        "  X_train.append(training_set_scaled[i-60:i, 0])\n",
        "  y_train.append(training_set_scaled[i, 0])"
      ],
      "metadata": {
        "id": "ntuFqIxbjSCL"
      },
      "execution_count": 6,
      "outputs": []
    },
    {
      "cell_type": "code",
      "source": [
        "X_train, y_train = np.array(X_train), np.array(y_train)\n",
        "\n",
        "print(X_train)\n",
        "print()\n",
        "print(y_train)"
      ],
      "metadata": {
        "colab": {
          "base_uri": "https://localhost:8080/"
        },
        "id": "z4xVgeSvn9IP",
        "outputId": "ed965106-f2f8-45fa-e38f-6ecba0db760e"
      },
      "execution_count": 7,
      "outputs": [
        {
          "output_type": "stream",
          "name": "stdout",
          "text": [
            "[[0.08581368 0.09701243 0.09433366 ... 0.07846566 0.08034452 0.08497656]\n",
            " [0.09701243 0.09433366 0.09156187 ... 0.08034452 0.08497656 0.08627874]\n",
            " [0.09433366 0.09156187 0.07984225 ... 0.08497656 0.08627874 0.08471612]\n",
            " ...\n",
            " [0.92106928 0.92438053 0.93048218 ... 0.95475854 0.95204256 0.95163331]\n",
            " [0.92438053 0.93048218 0.9299055  ... 0.95204256 0.95163331 0.95725128]\n",
            " [0.93048218 0.9299055  0.93113327 ... 0.95163331 0.95725128 0.93796041]]\n",
            "\n",
            "[0.08627874 0.08471612 0.07454052 ... 0.95725128 0.93796041 0.93688146]\n"
          ]
        }
      ]
    },
    {
      "cell_type": "markdown",
      "metadata": {
        "id": "D8yaN7Zvi95l"
      },
      "source": [
        "### Reshaping"
      ]
    },
    {
      "cell_type": "code",
      "source": [
        "X_train = np.reshape(X_train, (X_train.shape[0], X_train.shape[1], 1))"
      ],
      "metadata": {
        "id": "I6oP4s9-oEKM"
      },
      "execution_count": 8,
      "outputs": []
    },
    {
      "cell_type": "markdown",
      "metadata": {
        "id": "ZRRSOJeVjEWV"
      },
      "source": [
        "## Part 2 - Building and Training the RNN"
      ]
    },
    {
      "cell_type": "markdown",
      "metadata": {
        "id": "k4XV88JMjHXG"
      },
      "source": [
        "### Importing the Keras libraries and packages"
      ]
    },
    {
      "cell_type": "code",
      "source": [
        "from keras.models import Sequential\n",
        "from keras.layers import Dense\n",
        "from keras.layers import LSTM\n",
        "from keras.layers import Dropout"
      ],
      "metadata": {
        "id": "ZqmHfBV1qQf4"
      },
      "execution_count": 9,
      "outputs": []
    },
    {
      "cell_type": "markdown",
      "metadata": {
        "id": "FEIE-1s9jNzC"
      },
      "source": [
        "### Initialising the RNN"
      ]
    },
    {
      "cell_type": "code",
      "source": [
        "regressor = Sequential()"
      ],
      "metadata": {
        "id": "UYDhk4aIqebj"
      },
      "execution_count": 10,
      "outputs": []
    },
    {
      "cell_type": "markdown",
      "metadata": {
        "id": "62eg1OPGjT8z"
      },
      "source": [
        "### Adding the first LSTM layer and some Dropout regularisation"
      ]
    },
    {
      "cell_type": "code",
      "source": [
        "regressor.add(LSTM(units = 50, return_sequences = True, input_shape = (X_train.shape[1], 1)))\n",
        "regressor.add(Dropout(0.2))\n",
        "\n",
        "\n",
        "# units -> no of neurons in the given layer\n",
        "# reutrn_sequences ->\n",
        "# input_shape -> shape of input\n",
        "\n",
        "# Dropout(0.2) -> Regularization; 20% of neurons of the LSTM layer will be ignored during the training i.e forward and backward propagation\n",
        "# In this case 10 neurons will be dropped out"
      ],
      "metadata": {
        "id": "otxn4hdoqp7v"
      },
      "execution_count": 11,
      "outputs": []
    },
    {
      "cell_type": "markdown",
      "metadata": {
        "id": "3XBIYLyOjlMx"
      },
      "source": [
        "### Adding a second LSTM layer and some Dropout regularisation"
      ]
    },
    {
      "cell_type": "code",
      "source": [
        "regressor.add(LSTM(units = 50, return_sequences = True))\n",
        "regressor.add(Dropout(0.2))"
      ],
      "metadata": {
        "id": "Rveyi2uwqysr"
      },
      "execution_count": 12,
      "outputs": []
    },
    {
      "cell_type": "markdown",
      "metadata": {
        "id": "Ey3fHVnGj1cu"
      },
      "source": [
        "### Adding a third LSTM layer and some Dropout regularisation"
      ]
    },
    {
      "cell_type": "code",
      "source": [
        "regressor.add(LSTM(units = 50, return_sequences = True))\n",
        "regressor.add(Dropout(0.2))"
      ],
      "metadata": {
        "id": "2M88F9_nq02d"
      },
      "execution_count": 13,
      "outputs": []
    },
    {
      "cell_type": "markdown",
      "metadata": {
        "id": "SYTrtfTmj933"
      },
      "source": [
        "### Adding a fourth LSTM layer and some Dropout regularisation"
      ]
    },
    {
      "cell_type": "code",
      "source": [
        "regressor.add(LSTM(units = 50, return_sequences = False))\n",
        "regressor.add(Dropout(0.2))\n",
        "\n",
        "# return_sequences = False -> default value; since we are not returning any more sequences"
      ],
      "metadata": {
        "id": "qgSqtvV8q2uy"
      },
      "execution_count": 14,
      "outputs": []
    },
    {
      "cell_type": "markdown",
      "metadata": {
        "id": "9ABI6rOIkHhk"
      },
      "source": [
        "### Adding the output layer"
      ]
    },
    {
      "cell_type": "code",
      "source": [
        "regressor.add(Dense(units = 1))\n",
        "\n",
        "# Dense class to make a fully connected layer"
      ],
      "metadata": {
        "id": "kI642Yp4q4mC"
      },
      "execution_count": 15,
      "outputs": []
    },
    {
      "cell_type": "markdown",
      "metadata": {
        "id": "zLx4K7uUkPSh"
      },
      "source": [
        "### Compiling the RNN"
      ]
    },
    {
      "cell_type": "code",
      "source": [
        "regressor.compile(optimizer = 'adam', loss = 'mean_squared_error')\n",
        "\n",
        "# mean_squared_error -> since we are doing regression"
      ],
      "metadata": {
        "id": "3uGvTYJAq8my"
      },
      "execution_count": 16,
      "outputs": []
    },
    {
      "cell_type": "markdown",
      "metadata": {
        "id": "-mPhwKGkkebi"
      },
      "source": [
        "### Fitting the RNN to the Training set"
      ]
    },
    {
      "cell_type": "code",
      "source": [
        "regressor.fit(X_train, y_train, epochs = 130, batch_size = 30)"
      ],
      "metadata": {
        "colab": {
          "base_uri": "https://localhost:8080/"
        },
        "id": "16NVuUFaq-5s",
        "outputId": "5be4bbff-bb96-45f9-d1e0-c863920c0ac6"
      },
      "execution_count": 17,
      "outputs": [
        {
          "output_type": "stream",
          "name": "stdout",
          "text": [
            "Epoch 1/130\n",
            "40/40 [==============================] - 21s 147ms/step - loss: 0.0280\n",
            "Epoch 2/130\n",
            "40/40 [==============================] - 4s 107ms/step - loss: 0.0064\n",
            "Epoch 3/130\n",
            "40/40 [==============================] - 4s 109ms/step - loss: 0.0061\n",
            "Epoch 4/130\n",
            "40/40 [==============================] - 6s 144ms/step - loss: 0.0055\n",
            "Epoch 5/130\n",
            "40/40 [==============================] - 4s 107ms/step - loss: 0.0059\n",
            "Epoch 6/130\n",
            "40/40 [==============================] - 4s 111ms/step - loss: 0.0055\n",
            "Epoch 7/130\n",
            "40/40 [==============================] - 6s 140ms/step - loss: 0.0066\n",
            "Epoch 8/130\n",
            "40/40 [==============================] - 4s 106ms/step - loss: 0.0050\n",
            "Epoch 9/130\n",
            "40/40 [==============================] - 5s 121ms/step - loss: 0.0043\n",
            "Epoch 10/130\n",
            "40/40 [==============================] - 5s 132ms/step - loss: 0.0045\n",
            "Epoch 11/130\n",
            "40/40 [==============================] - 4s 107ms/step - loss: 0.0042\n",
            "Epoch 12/130\n",
            "40/40 [==============================] - 5s 128ms/step - loss: 0.0036\n",
            "Epoch 13/130\n",
            "40/40 [==============================] - 5s 119ms/step - loss: 0.0039\n",
            "Epoch 14/130\n",
            "40/40 [==============================] - 4s 107ms/step - loss: 0.0037\n",
            "Epoch 15/130\n",
            "40/40 [==============================] - 6s 142ms/step - loss: 0.0039\n",
            "Epoch 16/130\n",
            "40/40 [==============================] - 5s 112ms/step - loss: 0.0038\n",
            "Epoch 17/130\n",
            "40/40 [==============================] - 4s 106ms/step - loss: 0.0034\n",
            "Epoch 18/130\n",
            "40/40 [==============================] - 6s 155ms/step - loss: 0.0036\n",
            "Epoch 19/130\n",
            "40/40 [==============================] - 5s 133ms/step - loss: 0.0035\n",
            "Epoch 20/130\n",
            "40/40 [==============================] - 5s 115ms/step - loss: 0.0035\n",
            "Epoch 21/130\n",
            "40/40 [==============================] - 6s 138ms/step - loss: 0.0033\n",
            "Epoch 22/130\n",
            "40/40 [==============================] - 4s 107ms/step - loss: 0.0034\n",
            "Epoch 23/130\n",
            "40/40 [==============================] - 5s 123ms/step - loss: 0.0030\n",
            "Epoch 24/130\n",
            "40/40 [==============================] - 5s 128ms/step - loss: 0.0030\n",
            "Epoch 25/130\n",
            "40/40 [==============================] - 4s 107ms/step - loss: 0.0029\n",
            "Epoch 26/130\n",
            "40/40 [==============================] - 5s 129ms/step - loss: 0.0029\n",
            "Epoch 27/130\n",
            "40/40 [==============================] - 5s 120ms/step - loss: 0.0028\n",
            "Epoch 28/130\n",
            "40/40 [==============================] - 4s 106ms/step - loss: 0.0031\n",
            "Epoch 29/130\n",
            "40/40 [==============================] - 6s 140ms/step - loss: 0.0032\n",
            "Epoch 30/130\n",
            "40/40 [==============================] - 4s 106ms/step - loss: 0.0028\n",
            "Epoch 31/130\n",
            "40/40 [==============================] - 4s 106ms/step - loss: 0.0032\n",
            "Epoch 32/130\n",
            "40/40 [==============================] - 6s 146ms/step - loss: 0.0028\n",
            "Epoch 33/130\n",
            "40/40 [==============================] - 4s 106ms/step - loss: 0.0028\n",
            "Epoch 34/130\n",
            "40/40 [==============================] - 4s 107ms/step - loss: 0.0033\n",
            "Epoch 35/130\n",
            "40/40 [==============================] - 6s 142ms/step - loss: 0.0029\n",
            "Epoch 36/130\n",
            "40/40 [==============================] - 4s 106ms/step - loss: 0.0027\n",
            "Epoch 37/130\n",
            "40/40 [==============================] - 4s 107ms/step - loss: 0.0024\n",
            "Epoch 38/130\n",
            "40/40 [==============================] - 6s 143ms/step - loss: 0.0024\n",
            "Epoch 39/130\n",
            "40/40 [==============================] - 4s 106ms/step - loss: 0.0026\n",
            "Epoch 40/130\n",
            "40/40 [==============================] - 4s 108ms/step - loss: 0.0023\n",
            "Epoch 41/130\n",
            "40/40 [==============================] - 7s 167ms/step - loss: 0.0027\n",
            "Epoch 42/130\n",
            "40/40 [==============================] - 5s 119ms/step - loss: 0.0023\n",
            "Epoch 43/130\n",
            "40/40 [==============================] - 5s 137ms/step - loss: 0.0024\n",
            "Epoch 44/130\n",
            "40/40 [==============================] - 4s 111ms/step - loss: 0.0027\n",
            "Epoch 45/130\n",
            "40/40 [==============================] - 4s 106ms/step - loss: 0.0022\n",
            "Epoch 46/130\n",
            "40/40 [==============================] - 6s 143ms/step - loss: 0.0024\n",
            "Epoch 47/130\n",
            "40/40 [==============================] - 4s 107ms/step - loss: 0.0021\n",
            "Epoch 48/130\n",
            "40/40 [==============================] - 4s 107ms/step - loss: 0.0026\n",
            "Epoch 49/130\n",
            "40/40 [==============================] - 6s 146ms/step - loss: 0.0025\n",
            "Epoch 50/130\n",
            "40/40 [==============================] - 4s 106ms/step - loss: 0.0023\n",
            "Epoch 51/130\n",
            "40/40 [==============================] - 4s 107ms/step - loss: 0.0022\n",
            "Epoch 52/130\n",
            "40/40 [==============================] - 6s 144ms/step - loss: 0.0020\n",
            "Epoch 53/130\n",
            "40/40 [==============================] - 4s 106ms/step - loss: 0.0023\n",
            "Epoch 54/130\n",
            "40/40 [==============================] - 4s 107ms/step - loss: 0.0019\n",
            "Epoch 55/130\n",
            "40/40 [==============================] - 6s 146ms/step - loss: 0.0018\n",
            "Epoch 56/130\n",
            "40/40 [==============================] - 4s 106ms/step - loss: 0.0021\n",
            "Epoch 57/130\n",
            "40/40 [==============================] - 4s 111ms/step - loss: 0.0023\n",
            "Epoch 58/130\n",
            "40/40 [==============================] - 5s 134ms/step - loss: 0.0021\n",
            "Epoch 59/130\n",
            "40/40 [==============================] - 4s 107ms/step - loss: 0.0019\n",
            "Epoch 60/130\n",
            "40/40 [==============================] - 5s 121ms/step - loss: 0.0021\n",
            "Epoch 61/130\n",
            "40/40 [==============================] - 5s 126ms/step - loss: 0.0022\n",
            "Epoch 62/130\n",
            "40/40 [==============================] - 4s 106ms/step - loss: 0.0022\n",
            "Epoch 63/130\n",
            "40/40 [==============================] - 5s 127ms/step - loss: 0.0018\n",
            "Epoch 64/130\n",
            "40/40 [==============================] - 5s 123ms/step - loss: 0.0020\n",
            "Epoch 65/130\n",
            "40/40 [==============================] - 4s 108ms/step - loss: 0.0017\n",
            "Epoch 66/130\n",
            "40/40 [==============================] - 6s 141ms/step - loss: 0.0019\n",
            "Epoch 67/130\n",
            "40/40 [==============================] - 4s 109ms/step - loss: 0.0020\n",
            "Epoch 68/130\n",
            "40/40 [==============================] - 4s 107ms/step - loss: 0.0017\n",
            "Epoch 69/130\n",
            "40/40 [==============================] - 6s 142ms/step - loss: 0.0019\n",
            "Epoch 70/130\n",
            "40/40 [==============================] - 4s 107ms/step - loss: 0.0019\n",
            "Epoch 71/130\n",
            "40/40 [==============================] - 4s 109ms/step - loss: 0.0018\n",
            "Epoch 72/130\n",
            "40/40 [==============================] - 6s 144ms/step - loss: 0.0020\n",
            "Epoch 73/130\n",
            "40/40 [==============================] - 4s 107ms/step - loss: 0.0018\n",
            "Epoch 74/130\n",
            "40/40 [==============================] - 4s 106ms/step - loss: 0.0018\n",
            "Epoch 75/130\n",
            "40/40 [==============================] - 6s 145ms/step - loss: 0.0016\n",
            "Epoch 76/130\n",
            "40/40 [==============================] - 4s 107ms/step - loss: 0.0015\n",
            "Epoch 77/130\n",
            "40/40 [==============================] - 4s 109ms/step - loss: 0.0018\n",
            "Epoch 78/130\n",
            "40/40 [==============================] - 6s 138ms/step - loss: 0.0016\n",
            "Epoch 79/130\n",
            "40/40 [==============================] - 4s 106ms/step - loss: 0.0016\n",
            "Epoch 80/130\n",
            "40/40 [==============================] - 5s 118ms/step - loss: 0.0016\n",
            "Epoch 81/130\n",
            "40/40 [==============================] - 5s 131ms/step - loss: 0.0016\n",
            "Epoch 82/130\n",
            "40/40 [==============================] - 4s 104ms/step - loss: 0.0016\n",
            "Epoch 83/130\n",
            "40/40 [==============================] - 5s 128ms/step - loss: 0.0015\n",
            "Epoch 84/130\n",
            "40/40 [==============================] - 5s 119ms/step - loss: 0.0015\n",
            "Epoch 85/130\n",
            "40/40 [==============================] - 4s 106ms/step - loss: 0.0015\n",
            "Epoch 86/130\n",
            "40/40 [==============================] - 6s 140ms/step - loss: 0.0016\n",
            "Epoch 87/130\n",
            "40/40 [==============================] - 4s 104ms/step - loss: 0.0015\n",
            "Epoch 88/130\n",
            "40/40 [==============================] - 4s 103ms/step - loss: 0.0016\n",
            "Epoch 89/130\n",
            "40/40 [==============================] - 6s 152ms/step - loss: 0.0015\n",
            "Epoch 90/130\n",
            "40/40 [==============================] - 5s 129ms/step - loss: 0.0014\n",
            "Epoch 91/130\n",
            "40/40 [==============================] - 4s 105ms/step - loss: 0.0015\n",
            "Epoch 92/130\n",
            "40/40 [==============================] - 5s 135ms/step - loss: 0.0015\n",
            "Epoch 93/130\n",
            "40/40 [==============================] - 5s 114ms/step - loss: 0.0013\n",
            "Epoch 94/130\n",
            "40/40 [==============================] - 4s 104ms/step - loss: 0.0014\n",
            "Epoch 95/130\n",
            "40/40 [==============================] - 5s 136ms/step - loss: 0.0014\n",
            "Epoch 96/130\n",
            "40/40 [==============================] - 4s 109ms/step - loss: 0.0015\n",
            "Epoch 97/130\n",
            "40/40 [==============================] - 4s 104ms/step - loss: 0.0014\n",
            "Epoch 98/130\n",
            "40/40 [==============================] - 6s 144ms/step - loss: 0.0016\n",
            "Epoch 99/130\n",
            "40/40 [==============================] - 4s 105ms/step - loss: 0.0014\n",
            "Epoch 100/130\n",
            "40/40 [==============================] - 4s 105ms/step - loss: 0.0013\n",
            "Epoch 101/130\n",
            "40/40 [==============================] - 6s 139ms/step - loss: 0.0014\n",
            "Epoch 102/130\n",
            "40/40 [==============================] - 4s 105ms/step - loss: 0.0012\n",
            "Epoch 103/130\n",
            "40/40 [==============================] - 4s 106ms/step - loss: 0.0013\n",
            "Epoch 104/130\n",
            "40/40 [==============================] - 6s 142ms/step - loss: 0.0014\n",
            "Epoch 105/130\n",
            "40/40 [==============================] - 4s 104ms/step - loss: 0.0013\n",
            "Epoch 106/130\n",
            "40/40 [==============================] - 4s 106ms/step - loss: 0.0014\n",
            "Epoch 107/130\n",
            "40/40 [==============================] - 6s 138ms/step - loss: 0.0013\n",
            "Epoch 108/130\n",
            "40/40 [==============================] - 4s 106ms/step - loss: 0.0013\n",
            "Epoch 109/130\n",
            "40/40 [==============================] - 4s 112ms/step - loss: 0.0012\n",
            "Epoch 110/130\n",
            "40/40 [==============================] - 5s 130ms/step - loss: 0.0013\n",
            "Epoch 111/130\n",
            "40/40 [==============================] - 4s 104ms/step - loss: 0.0012\n",
            "Epoch 112/130\n",
            "40/40 [==============================] - 5s 119ms/step - loss: 0.0013\n",
            "Epoch 113/130\n",
            "40/40 [==============================] - 5s 127ms/step - loss: 0.0014\n",
            "Epoch 114/130\n",
            "40/40 [==============================] - 4s 102ms/step - loss: 0.0013\n",
            "Epoch 115/130\n",
            "40/40 [==============================] - 5s 125ms/step - loss: 0.0013\n",
            "Epoch 116/130\n",
            "40/40 [==============================] - 5s 128ms/step - loss: 0.0013\n",
            "Epoch 117/130\n",
            "40/40 [==============================] - 4s 103ms/step - loss: 0.0015\n",
            "Epoch 118/130\n",
            "40/40 [==============================] - 5s 126ms/step - loss: 0.0012\n",
            "Epoch 119/130\n",
            "40/40 [==============================] - 5s 116ms/step - loss: 0.0011\n",
            "Epoch 120/130\n",
            "40/40 [==============================] - 4s 104ms/step - loss: 0.0012\n",
            "Epoch 121/130\n",
            "40/40 [==============================] - 5s 128ms/step - loss: 0.0012\n",
            "Epoch 122/130\n",
            "40/40 [==============================] - 5s 118ms/step - loss: 0.0012\n",
            "Epoch 123/130\n",
            "40/40 [==============================] - 4s 106ms/step - loss: 0.0011\n",
            "Epoch 124/130\n",
            "40/40 [==============================] - 5s 136ms/step - loss: 0.0012\n",
            "Epoch 125/130\n",
            "40/40 [==============================] - 4s 111ms/step - loss: 0.0012\n",
            "Epoch 126/130\n",
            "40/40 [==============================] - 4s 106ms/step - loss: 0.0013\n",
            "Epoch 127/130\n",
            "40/40 [==============================] - 5s 137ms/step - loss: 0.0012\n",
            "Epoch 128/130\n",
            "40/40 [==============================] - 4s 106ms/step - loss: 0.0011\n",
            "Epoch 129/130\n",
            "40/40 [==============================] - 4s 106ms/step - loss: 0.0012\n",
            "Epoch 130/130\n",
            "40/40 [==============================] - 6s 145ms/step - loss: 0.0012\n"
          ]
        },
        {
          "output_type": "execute_result",
          "data": {
            "text/plain": [
              "<keras.src.callbacks.History at 0x7f2b18614940>"
            ]
          },
          "metadata": {},
          "execution_count": 17
        }
      ]
    },
    {
      "cell_type": "markdown",
      "metadata": {
        "id": "4hRau_lIkrE8"
      },
      "source": [
        "## Part 3 - Making the predictions and visualising the results"
      ]
    },
    {
      "cell_type": "markdown",
      "metadata": {
        "id": "SgJO6qEDksxD"
      },
      "source": [
        "### Getting the real stock price of 2017"
      ]
    },
    {
      "cell_type": "code",
      "source": [
        "dataset_test = pd.read_csv('Google_Stock_Price_Test.csv')\n",
        "real_stock_price = dataset_test.iloc[:, 1:2].values"
      ],
      "metadata": {
        "id": "UQrnY5eDMU_O"
      },
      "execution_count": 18,
      "outputs": []
    },
    {
      "cell_type": "markdown",
      "metadata": {
        "id": "GrvrLblxkz42"
      },
      "source": [
        "### Getting the predicted stock price of 2017"
      ]
    },
    {
      "cell_type": "code",
      "source": [
        "dataset_total = pd.concat((dataset_train['Open'], dataset_test['Open']), axis = 0)\n",
        "inputs = dataset_total[len(dataset_total) - len(dataset_test) - 60:].values # We need the stock prices of 60 financial days prior to Jan 3, 2017\n",
        "inputs = inputs.reshape(-1,1)\n",
        "inputs = sc.transform(inputs)\n",
        "# print(inputs, \"\\n\")\n",
        "X_test = []\n",
        "for i in range(60, 80):\n",
        "    X_test.append(inputs[i-60:i, 0])\n",
        "X_test = np.array(X_test)\n",
        "X_test = np.reshape(X_test, (X_test.shape[0], X_test.shape[1], 1))\n",
        "predicted_stock_price = regressor.predict(X_test)\n",
        "predicted_stock_price = sc.inverse_transform(predicted_stock_price)\n",
        "\n",
        "# vertical concatenation -> axis = 0\n",
        "# horizontal concatenation -> axis = 1"
      ],
      "metadata": {
        "colab": {
          "base_uri": "https://localhost:8080/"
        },
        "id": "Yoxkua71Qn4E",
        "outputId": "a572b76c-7dd1-402a-fbb6-7146b902fcd0"
      },
      "execution_count": 19,
      "outputs": [
        {
          "output_type": "stream",
          "name": "stdout",
          "text": [
            "1/1 [==============================] - 2s 2s/step\n"
          ]
        }
      ]
    },
    {
      "cell_type": "code",
      "source": [
        "print(predicted_stock_price)"
      ],
      "metadata": {
        "colab": {
          "base_uri": "https://localhost:8080/"
        },
        "id": "7qIwsA31ZYdo",
        "outputId": "a78e5630-2d64-4d3d-8664-2d67b0eca20c"
      },
      "execution_count": 20,
      "outputs": [
        {
          "output_type": "stream",
          "name": "stdout",
          "text": [
            "[[784.01904]\n",
            " [781.43207]\n",
            " [784.90643]\n",
            " [786.3666 ]\n",
            " [790.61365]\n",
            " [797.9024 ]\n",
            " [801.55914]\n",
            " [800.7028 ]\n",
            " [800.7519 ]\n",
            " [801.3785 ]\n",
            " [801.8293 ]\n",
            " [801.64813]\n",
            " [801.39624]\n",
            " [802.3499 ]\n",
            " [803.21466]\n",
            " [810.82294]\n",
            " [818.1528 ]\n",
            " [824.3557 ]\n",
            " [824.54706]\n",
            " [814.2573 ]]\n"
          ]
        }
      ]
    },
    {
      "cell_type": "markdown",
      "metadata": {
        "id": "iFTNs3YHk6FQ"
      },
      "source": [
        "### Visualising the results"
      ]
    },
    {
      "cell_type": "code",
      "source": [
        "plt.plot(real_stock_price, color = 'green', label = 'Real Google Stock Price')\n",
        "plt.plot(predicted_stock_price, color = 'blue', label = 'Predicted Google Stock Price')\n",
        "plt.title('Google Stock Price Prediction')\n",
        "plt.xlabel('Time')\n",
        "plt.ylabel('Google Stock Price')\n",
        "plt.legend()\n",
        "plt.show()"
      ],
      "metadata": {
        "colab": {
          "base_uri": "https://localhost:8080/",
          "height": 472
        },
        "id": "79QFEKkmQsYJ",
        "outputId": "4c4691ce-3a29-475c-8ec1-2dadfae7fffb"
      },
      "execution_count": 21,
      "outputs": [
        {
          "output_type": "display_data",
          "data": {
            "text/plain": [
              "<Figure size 640x480 with 1 Axes>"
            ],
            "image/png": "[encoded data removed]"
          },
          "metadata": {}
        }
      ]
    }
  ]
}