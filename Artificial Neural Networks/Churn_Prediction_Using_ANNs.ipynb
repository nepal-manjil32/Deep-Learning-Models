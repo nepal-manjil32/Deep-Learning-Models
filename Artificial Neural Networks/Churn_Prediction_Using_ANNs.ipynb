{
  "nbformat": 4,
  "nbformat_minor": 0,
  "metadata": {
    "colab": {
      "provenance": []
    },
    "kernelspec": {
      "name": "python3",
      "display_name": "Python 3"
    },
    "language_info": {
      "name": "python"
    }
  },
  "cells": [
    {
      "cell_type": "markdown",
      "source": [
        "**<font color='orange' size='+2'>CHURN PREDICTION OF A BANK USING ARTIFICIAL NEURAL NETWORKS</font>**"
      ],
      "metadata": {
        "id": "f1CTsFEU7Wse"
      }
    },
    {
      "cell_type": "markdown",
      "source": [
        "# Importing necessary libraries"
      ],
      "metadata": {
        "id": "mVBwUz7W78nB"
      }
    },
    {
      "cell_type": "code",
      "source": [
        "import numpy as np\n",
        "import pandas as pd\n",
        "import tensorflow as tf"
      ],
      "metadata": {
        "id": "KLpi7Swe7mt2"
      },
      "execution_count": 1,
      "outputs": []
    },
    {
      "cell_type": "markdown",
      "source": [
        "# Importing Dataset"
      ],
      "metadata": {
        "id": "4NWxQv_18Bps"
      }
    },
    {
      "cell_type": "code",
      "source": [
        "dset = pd.read_csv(\"Churn_Data.csv\")\n",
        "X = dset.iloc[:, 3:-1].values\n",
        "y = dset.iloc[:, -1].values"
      ],
      "metadata": {
        "id": "SbevobIx77Qi"
      },
      "execution_count": 2,
      "outputs": []
    },
    {
      "cell_type": "code",
      "source": [
        "print(X)"
      ],
      "metadata": {
        "colab": {
          "base_uri": "https://localhost:8080/"
        },
        "id": "et0o40vBAwBw",
        "outputId": "4aee406a-f64c-4114-b394-92d4cde794cf"
      },
      "execution_count": 3,
      "outputs": [
        {
          "output_type": "stream",
          "name": "stdout",
          "text": [
            "[[619 'France' 'Female' ... 1 1 101348.88]\n",
            " [608 'Spain' 'Female' ... 0 1 112542.58]\n",
            " [502 'France' 'Female' ... 1 0 113931.57]\n",
            " ...\n",
            " [709 'France' 'Female' ... 0 1 42085.58]\n",
            " [772 'Germany' 'Male' ... 1 0 92888.52]\n",
            " [792 'France' 'Female' ... 1 0 38190.78]]\n"
          ]
        }
      ]
    },
    {
      "cell_type": "code",
      "source": [
        "print(y)"
      ],
      "metadata": {
        "colab": {
          "base_uri": "https://localhost:8080/"
        },
        "id": "yAJh7JzEAz9k",
        "outputId": "e2214d2a-dac3-498e-f597-6ca059c4f35b"
      },
      "execution_count": 4,
      "outputs": [
        {
          "output_type": "stream",
          "name": "stdout",
          "text": [
            "[1 0 1 ... 1 1 0]\n"
          ]
        }
      ]
    },
    {
      "cell_type": "markdown",
      "source": [
        "# Encoding Categorical Data"
      ],
      "metadata": {
        "id": "znxEz2tBBCTA"
      }
    },
    {
      "cell_type": "markdown",
      "source": [
        "### Onehot encoding 'Geography' column"
      ],
      "metadata": {
        "id": "z-zAT_68_svO"
      }
    },
    {
      "cell_type": "code",
      "source": [
        "from sklearn.compose import ColumnTransformer\n",
        "from sklearn.preprocessing import OneHotEncoder\n",
        "\n",
        "ct = ColumnTransformer(transformers = [('encoder', OneHotEncoder(), [1])], remainder = 'passthrough')\n",
        "X = np.array(ct.fit_transform(X))"
      ],
      "metadata": {
        "id": "QHPEzPbK_523"
      },
      "execution_count": 5,
      "outputs": []
    },
    {
      "cell_type": "code",
      "source": [
        "print(X)\n",
        "# Dummy variables are moved to first column"
      ],
      "metadata": {
        "colab": {
          "base_uri": "https://localhost:8080/"
        },
        "id": "Su2p9mDWAtQ8",
        "outputId": "00d1c62c-d994-403d-b5d2-16a09bffec34"
      },
      "execution_count": 6,
      "outputs": [
        {
          "output_type": "stream",
          "name": "stdout",
          "text": [
            "[[1.0 0.0 0.0 ... 1 1 101348.88]\n",
            " [0.0 0.0 1.0 ... 0 1 112542.58]\n",
            " [1.0 0.0 0.0 ... 1 0 113931.57]\n",
            " ...\n",
            " [1.0 0.0 0.0 ... 0 1 42085.58]\n",
            " [0.0 1.0 0.0 ... 1 0 92888.52]\n",
            " [1.0 0.0 0.0 ... 1 0 38190.78]]\n"
          ]
        }
      ]
    },
    {
      "cell_type": "markdown",
      "source": [
        "### Label encoding 'Gender' column"
      ],
      "metadata": {
        "id": "HyHR90Of_7du"
      }
    },
    {
      "cell_type": "code",
      "source": [
        "from sklearn.preprocessing import LabelEncoder\n",
        "\n",
        "le = LabelEncoder()\n",
        "X[:, 4] = le.fit_transform(X[:, 4])"
      ],
      "metadata": {
        "id": "s1TyrK8XAAk3"
      },
      "execution_count": 7,
      "outputs": []
    },
    {
      "cell_type": "code",
      "source": [
        "print(X[:, 4])"
      ],
      "metadata": {
        "colab": {
          "base_uri": "https://localhost:8080/"
        },
        "id": "BwxClZQ3JMEN",
        "outputId": "8bc3bed1-f98a-4f83-bb5a-3bb035f536be"
      },
      "execution_count": 8,
      "outputs": [
        {
          "output_type": "stream",
          "name": "stdout",
          "text": [
            "[0 0 0 ... 0 1 0]\n"
          ]
        }
      ]
    },
    {
      "cell_type": "code",
      "source": [
        "print(X[0])"
      ],
      "metadata": {
        "colab": {
          "base_uri": "https://localhost:8080/"
        },
        "id": "uKxuAH-5KzPf",
        "outputId": "0b698fd1-e81f-4388-8bda-0ca6cccee061"
      },
      "execution_count": 9,
      "outputs": [
        {
          "output_type": "stream",
          "name": "stdout",
          "text": [
            "[1.0 0.0 0.0 619 0 42 2 0.0 1 1 1 101348.88]\n"
          ]
        }
      ]
    },
    {
      "cell_type": "markdown",
      "source": [
        "# Splitting the dataset into the Training set and Test set"
      ],
      "metadata": {
        "id": "72l_18S-JbDT"
      }
    },
    {
      "cell_type": "code",
      "source": [
        "from sklearn.model_selection import train_test_split\n",
        "\n",
        "X_train, X_test, y_train, y_test = train_test_split(X, y, test_size = 0.2, random_state = 42)"
      ],
      "metadata": {
        "id": "KBmABx76JdBu"
      },
      "execution_count": 10,
      "outputs": []
    },
    {
      "cell_type": "code",
      "source": [
        "print(X_train)"
      ],
      "metadata": {
        "colab": {
          "base_uri": "https://localhost:8080/"
        },
        "id": "8cY049ktKCmi",
        "outputId": "b0064173-7655-4704-c280-f5f3eaf2506b"
      },
      "execution_count": 11,
      "outputs": [
        {
          "output_type": "stream",
          "name": "stdout",
          "text": [
            "[[1.0 0.0 0.0 ... 1 1 179093.26]\n",
            " [0.0 1.0 0.0 ... 1 1 195978.86]\n",
            " [0.0 0.0 1.0 ... 1 0 85891.02]\n",
            " ...\n",
            " [1.0 0.0 0.0 ... 0 0 92220.12]\n",
            " [1.0 0.0 0.0 ... 1 0 97508.04]\n",
            " [0.0 1.0 0.0 ... 1 1 53581.14]]\n"
          ]
        }
      ]
    },
    {
      "cell_type": "code",
      "source": [
        "print(X_test)"
      ],
      "metadata": {
        "colab": {
          "base_uri": "https://localhost:8080/"
        },
        "id": "5AGJIDvtKhA3",
        "outputId": "f7f23315-6542-4b04-c0c2-e213e40529cc"
      },
      "execution_count": 12,
      "outputs": [
        {
          "output_type": "stream",
          "name": "stdout",
          "text": [
            "[[0.0 1.0 0.0 ... 0 0 41788.37]\n",
            " [1.0 0.0 0.0 ... 1 1 146379.3]\n",
            " [0.0 0.0 1.0 ... 1 0 58561.31]\n",
            " ...\n",
            " [1.0 0.0 0.0 ... 1 0 33373.26]\n",
            " [1.0 0.0 0.0 ... 1 0 76755.99]\n",
            " [0.0 1.0 0.0 ... 1 1 107674.3]]\n"
          ]
        }
      ]
    },
    {
      "cell_type": "markdown",
      "source": [
        "# Feature Scaling"
      ],
      "metadata": {
        "id": "WhotQnRcJjGT"
      }
    },
    {
      "cell_type": "code",
      "source": [
        "from sklearn.preprocessing import StandardScaler\n",
        "\n",
        "sc = StandardScaler()\n",
        "X_train = sc.fit_transform(X_train)\n",
        "X_test = sc.transform(X_test)"
      ],
      "metadata": {
        "id": "gUxw67EBJpKs"
      },
      "execution_count": 13,
      "outputs": []
    },
    {
      "cell_type": "code",
      "source": [
        "print(X_train)"
      ],
      "metadata": {
        "colab": {
          "base_uri": "https://localhost:8080/"
        },
        "id": "XEZi27MIJsBz",
        "outputId": "6351ea77-1362-42ef-8321-68cae55d4919"
      },
      "execution_count": 14,
      "outputs": [
        {
          "output_type": "stream",
          "name": "stdout",
          "text": [
            "[[ 1.00150113 -0.57946723 -0.57638802 ...  0.64920267  0.97481699\n",
            "   1.36766974]\n",
            " [-0.99850112  1.72572313 -0.57638802 ...  0.64920267  0.97481699\n",
            "   1.6612541 ]\n",
            " [-0.99850112 -0.57946723  1.73494238 ...  0.64920267 -1.02583358\n",
            "  -0.25280688]\n",
            " ...\n",
            " [ 1.00150113 -0.57946723 -0.57638802 ... -1.54035103 -1.02583358\n",
            "  -0.1427649 ]\n",
            " [ 1.00150113 -0.57946723 -0.57638802 ...  0.64920267 -1.02583358\n",
            "  -0.05082558]\n",
            " [-0.99850112  1.72572313 -0.57638802 ...  0.64920267  0.97481699\n",
            "  -0.81456811]]\n"
          ]
        }
      ]
    },
    {
      "cell_type": "code",
      "source": [
        "print(X_test)"
      ],
      "metadata": {
        "colab": {
          "base_uri": "https://localhost:8080/"
        },
        "id": "r4YyBy6mLJi0",
        "outputId": "d88254c6-e788-429a-da34-40399dedfde9"
      },
      "execution_count": 15,
      "outputs": [
        {
          "output_type": "stream",
          "name": "stdout",
          "text": [
            "[[-0.99850112  1.72572313 -0.57638802 ... -1.54035103 -1.02583358\n",
            "  -1.01960511]\n",
            " [ 1.00150113 -0.57946723 -0.57638802 ...  0.64920267  0.97481699\n",
            "   0.79888291]\n",
            " [-0.99850112 -0.57946723  1.73494238 ...  0.64920267 -1.02583358\n",
            "  -0.72797953]\n",
            " ...\n",
            " [ 1.00150113 -0.57946723 -0.57638802 ...  0.64920267 -1.02583358\n",
            "  -1.16591585]\n",
            " [ 1.00150113 -0.57946723 -0.57638802 ...  0.64920267 -1.02583358\n",
            "  -0.41163463]\n",
            " [-0.99850112  1.72572313 -0.57638802 ...  0.64920267  0.97481699\n",
            "   0.12593183]]\n"
          ]
        }
      ]
    },
    {
      "cell_type": "markdown",
      "source": [
        "# Making the Artificial Neural Network"
      ],
      "metadata": {
        "id": "od1CIwgfLPbp"
      }
    },
    {
      "cell_type": "code",
      "source": [
        "# Initialisation\n",
        "ann = tf.keras.models.Sequential()\n",
        "\n",
        "# Adding Input and First Hidden Layer\n",
        "ann.add(tf.keras.layers.Dense(units = 6, activation = 'relu'))\n",
        "\n",
        "# Adding Second Hidden Layer\n",
        "ann.add(tf.keras.layers.Dense(units = 6, activation = 'relu'))\n",
        "\n",
        "# Adding Output Layer\n",
        "ann.add(tf.keras.layers.Dense(units = 1, activation = 'sigmoid'))"
      ],
      "metadata": {
        "id": "vf0FOdxrLc3h"
      },
      "execution_count": 16,
      "outputs": []
    },
    {
      "cell_type": "markdown",
      "source": [
        "# Training the Aritificial Neural Network"
      ],
      "metadata": {
        "id": "uC7E9q9UMLVr"
      }
    },
    {
      "cell_type": "code",
      "source": [
        "# Compiling the ANN\n",
        "ann.compile(optimizer='adam', loss = 'binary_crossentropy', metrics = ['accuracy'])\n",
        "\n",
        "# Training the ANN\n",
        "ann.fit(X_train, y_train, batch_size = 32, epochs = 80)"
      ],
      "metadata": {
        "colab": {
          "base_uri": "https://localhost:8080/"
        },
        "id": "X7uOwtIlMPNS",
        "outputId": "e5ac34b8-9356-4d69-c58d-883074e10f6d"
      },
      "execution_count": 17,
      "outputs": [
        {
          "output_type": "stream",
          "name": "stdout",
          "text": [
            "Epoch 1/80\n",
            "250/250 [==============================] - 4s 7ms/step - loss: 0.5688 - accuracy: 0.7412\n",
            "Epoch 2/80\n",
            "250/250 [==============================] - 2s 9ms/step - loss: 0.4729 - accuracy: 0.7960\n",
            "Epoch 3/80\n",
            "250/250 [==============================] - 2s 7ms/step - loss: 0.4524 - accuracy: 0.7996\n",
            "Epoch 4/80\n",
            "250/250 [==============================] - 1s 5ms/step - loss: 0.4415 - accuracy: 0.8074\n",
            "Epoch 5/80\n",
            "250/250 [==============================] - 1s 5ms/step - loss: 0.4335 - accuracy: 0.8109\n",
            "Epoch 6/80\n",
            "250/250 [==============================] - 1s 6ms/step - loss: 0.4259 - accuracy: 0.8134\n",
            "Epoch 7/80\n",
            "250/250 [==============================] - 0s 2ms/step - loss: 0.4174 - accuracy: 0.8171\n",
            "Epoch 8/80\n",
            "250/250 [==============================] - 0s 2ms/step - loss: 0.4067 - accuracy: 0.8253\n",
            "Epoch 9/80\n",
            "250/250 [==============================] - 0s 2ms/step - loss: 0.3941 - accuracy: 0.8319\n",
            "Epoch 10/80\n",
            "250/250 [==============================] - 0s 2ms/step - loss: 0.3813 - accuracy: 0.8397\n",
            "Epoch 11/80\n",
            "250/250 [==============================] - 0s 2ms/step - loss: 0.3705 - accuracy: 0.8468\n",
            "Epoch 12/80\n",
            "250/250 [==============================] - 0s 2ms/step - loss: 0.3626 - accuracy: 0.8508\n",
            "Epoch 13/80\n",
            "250/250 [==============================] - 0s 2ms/step - loss: 0.3568 - accuracy: 0.8551\n",
            "Epoch 14/80\n",
            "250/250 [==============================] - 0s 2ms/step - loss: 0.3528 - accuracy: 0.8575\n",
            "Epoch 15/80\n",
            "250/250 [==============================] - 0s 2ms/step - loss: 0.3500 - accuracy: 0.8583\n",
            "Epoch 16/80\n",
            "250/250 [==============================] - 0s 2ms/step - loss: 0.3482 - accuracy: 0.8591\n",
            "Epoch 17/80\n",
            "250/250 [==============================] - 0s 2ms/step - loss: 0.3467 - accuracy: 0.8595\n",
            "Epoch 18/80\n",
            "250/250 [==============================] - 0s 2ms/step - loss: 0.3449 - accuracy: 0.8597\n",
            "Epoch 19/80\n",
            "250/250 [==============================] - 1s 3ms/step - loss: 0.3442 - accuracy: 0.8586\n",
            "Epoch 20/80\n",
            "250/250 [==============================] - 1s 3ms/step - loss: 0.3431 - accuracy: 0.8597\n",
            "Epoch 21/80\n",
            "250/250 [==============================] - 1s 3ms/step - loss: 0.3425 - accuracy: 0.8601\n",
            "Epoch 22/80\n",
            "250/250 [==============================] - 1s 2ms/step - loss: 0.3414 - accuracy: 0.8612\n",
            "Epoch 23/80\n",
            "250/250 [==============================] - 1s 3ms/step - loss: 0.3411 - accuracy: 0.8615\n",
            "Epoch 24/80\n",
            "250/250 [==============================] - 0s 2ms/step - loss: 0.3405 - accuracy: 0.8618\n",
            "Epoch 25/80\n",
            "250/250 [==============================] - 0s 2ms/step - loss: 0.3400 - accuracy: 0.8621\n",
            "Epoch 26/80\n",
            "250/250 [==============================] - 0s 2ms/step - loss: 0.3394 - accuracy: 0.8629\n",
            "Epoch 27/80\n",
            "250/250 [==============================] - 0s 2ms/step - loss: 0.3394 - accuracy: 0.8616\n",
            "Epoch 28/80\n",
            "250/250 [==============================] - 0s 2ms/step - loss: 0.3387 - accuracy: 0.8624\n",
            "Epoch 29/80\n",
            "250/250 [==============================] - 1s 2ms/step - loss: 0.3385 - accuracy: 0.8616\n",
            "Epoch 30/80\n",
            "250/250 [==============================] - 0s 2ms/step - loss: 0.3378 - accuracy: 0.8601\n",
            "Epoch 31/80\n",
            "250/250 [==============================] - 0s 2ms/step - loss: 0.3381 - accuracy: 0.8624\n",
            "Epoch 32/80\n",
            "250/250 [==============================] - 0s 2ms/step - loss: 0.3373 - accuracy: 0.8624\n",
            "Epoch 33/80\n",
            "250/250 [==============================] - 0s 2ms/step - loss: 0.3379 - accuracy: 0.8614\n",
            "Epoch 34/80\n",
            "250/250 [==============================] - 0s 2ms/step - loss: 0.3373 - accuracy: 0.8627\n",
            "Epoch 35/80\n",
            "250/250 [==============================] - 0s 2ms/step - loss: 0.3373 - accuracy: 0.8618\n",
            "Epoch 36/80\n",
            "250/250 [==============================] - 0s 2ms/step - loss: 0.3369 - accuracy: 0.8626\n",
            "Epoch 37/80\n",
            "250/250 [==============================] - 0s 2ms/step - loss: 0.3370 - accuracy: 0.8621\n",
            "Epoch 38/80\n",
            "250/250 [==============================] - 0s 2ms/step - loss: 0.3364 - accuracy: 0.8624\n",
            "Epoch 39/80\n",
            "250/250 [==============================] - 0s 2ms/step - loss: 0.3365 - accuracy: 0.8604\n",
            "Epoch 40/80\n",
            "250/250 [==============================] - 0s 2ms/step - loss: 0.3363 - accuracy: 0.8622\n",
            "Epoch 41/80\n",
            "250/250 [==============================] - 0s 2ms/step - loss: 0.3360 - accuracy: 0.8625\n",
            "Epoch 42/80\n",
            "250/250 [==============================] - 0s 2ms/step - loss: 0.3358 - accuracy: 0.8624\n",
            "Epoch 43/80\n",
            "250/250 [==============================] - 0s 2ms/step - loss: 0.3358 - accuracy: 0.8626\n",
            "Epoch 44/80\n",
            "250/250 [==============================] - 0s 2ms/step - loss: 0.3352 - accuracy: 0.8627\n",
            "Epoch 45/80\n",
            "250/250 [==============================] - 0s 2ms/step - loss: 0.3354 - accuracy: 0.8606\n",
            "Epoch 46/80\n",
            "250/250 [==============================] - 1s 3ms/step - loss: 0.3351 - accuracy: 0.8630\n",
            "Epoch 47/80\n",
            "250/250 [==============================] - 1s 3ms/step - loss: 0.3352 - accuracy: 0.8630\n",
            "Epoch 48/80\n",
            "250/250 [==============================] - 1s 3ms/step - loss: 0.3348 - accuracy: 0.8622\n",
            "Epoch 49/80\n",
            "250/250 [==============================] - 1s 3ms/step - loss: 0.3347 - accuracy: 0.8639\n",
            "Epoch 50/80\n",
            "250/250 [==============================] - 1s 3ms/step - loss: 0.3346 - accuracy: 0.8640\n",
            "Epoch 51/80\n",
            "250/250 [==============================] - 1s 2ms/step - loss: 0.3343 - accuracy: 0.8634\n",
            "Epoch 52/80\n",
            "250/250 [==============================] - 0s 2ms/step - loss: 0.3341 - accuracy: 0.8631\n",
            "Epoch 53/80\n",
            "250/250 [==============================] - 0s 2ms/step - loss: 0.3341 - accuracy: 0.8644\n",
            "Epoch 54/80\n",
            "250/250 [==============================] - 0s 2ms/step - loss: 0.3344 - accuracy: 0.8639\n",
            "Epoch 55/80\n",
            "250/250 [==============================] - 0s 2ms/step - loss: 0.3339 - accuracy: 0.8644\n",
            "Epoch 56/80\n",
            "250/250 [==============================] - 0s 2ms/step - loss: 0.3335 - accuracy: 0.8636\n",
            "Epoch 57/80\n",
            "250/250 [==============================] - 0s 2ms/step - loss: 0.3338 - accuracy: 0.8626\n",
            "Epoch 58/80\n",
            "250/250 [==============================] - 0s 2ms/step - loss: 0.3339 - accuracy: 0.8630\n",
            "Epoch 59/80\n",
            "250/250 [==============================] - 0s 2ms/step - loss: 0.3336 - accuracy: 0.8629\n",
            "Epoch 60/80\n",
            "250/250 [==============================] - 0s 2ms/step - loss: 0.3336 - accuracy: 0.8624\n",
            "Epoch 61/80\n",
            "250/250 [==============================] - 0s 2ms/step - loss: 0.3333 - accuracy: 0.8630\n",
            "Epoch 62/80\n",
            "250/250 [==============================] - 0s 2ms/step - loss: 0.3335 - accuracy: 0.8634\n",
            "Epoch 63/80\n",
            "250/250 [==============================] - 0s 2ms/step - loss: 0.3332 - accuracy: 0.8648\n",
            "Epoch 64/80\n",
            "250/250 [==============================] - 0s 2ms/step - loss: 0.3334 - accuracy: 0.8644\n",
            "Epoch 65/80\n",
            "250/250 [==============================] - 0s 2ms/step - loss: 0.3329 - accuracy: 0.8635\n",
            "Epoch 66/80\n",
            "250/250 [==============================] - 0s 2ms/step - loss: 0.3331 - accuracy: 0.8618\n",
            "Epoch 67/80\n",
            "250/250 [==============================] - 0s 2ms/step - loss: 0.3329 - accuracy: 0.8627\n",
            "Epoch 68/80\n",
            "250/250 [==============================] - 0s 2ms/step - loss: 0.3332 - accuracy: 0.8644\n",
            "Epoch 69/80\n",
            "250/250 [==============================] - 0s 2ms/step - loss: 0.3330 - accuracy: 0.8629\n",
            "Epoch 70/80\n",
            "250/250 [==============================] - 0s 2ms/step - loss: 0.3330 - accuracy: 0.8630\n",
            "Epoch 71/80\n",
            "250/250 [==============================] - 0s 2ms/step - loss: 0.3329 - accuracy: 0.8637\n",
            "Epoch 72/80\n",
            "250/250 [==============================] - 0s 2ms/step - loss: 0.3326 - accuracy: 0.8635\n",
            "Epoch 73/80\n",
            "250/250 [==============================] - 0s 2ms/step - loss: 0.3327 - accuracy: 0.8637\n",
            "Epoch 74/80\n",
            "250/250 [==============================] - 1s 3ms/step - loss: 0.3322 - accuracy: 0.8635\n",
            "Epoch 75/80\n",
            "250/250 [==============================] - 1s 3ms/step - loss: 0.3326 - accuracy: 0.8636\n",
            "Epoch 76/80\n",
            "250/250 [==============================] - 1s 3ms/step - loss: 0.3322 - accuracy: 0.8640\n",
            "Epoch 77/80\n",
            "250/250 [==============================] - 1s 3ms/step - loss: 0.3321 - accuracy: 0.8636\n",
            "Epoch 78/80\n",
            "250/250 [==============================] - 1s 3ms/step - loss: 0.3322 - accuracy: 0.8634\n",
            "Epoch 79/80\n",
            "250/250 [==============================] - 0s 2ms/step - loss: 0.3324 - accuracy: 0.8625\n",
            "Epoch 80/80\n",
            "250/250 [==============================] - 0s 2ms/step - loss: 0.3321 - accuracy: 0.8655\n"
          ]
        },
        {
          "output_type": "execute_result",
          "data": {
            "text/plain": [
              "<keras.src.callbacks.History at 0x78d1f680f7f0>"
            ]
          },
          "metadata": {},
          "execution_count": 17
        }
      ]
    },
    {
      "cell_type": "markdown",
      "source": [
        "# Making Predictions"
      ],
      "metadata": {
        "id": "WLcYEfe0Mgde"
      }
    },
    {
      "cell_type": "code",
      "source": [
        "# Predicting Test Data\n",
        "y_pred = ann.predict(X_test)\n",
        "y_pred = (y_pred > 0.5)"
      ],
      "metadata": {
        "colab": {
          "base_uri": "https://localhost:8080/"
        },
        "id": "VLlnkBAPMnyd",
        "outputId": "a5a33d5c-48e2-41c1-a9db-4146cf8b116f"
      },
      "execution_count": 18,
      "outputs": [
        {
          "output_type": "stream",
          "name": "stdout",
          "text": [
            "63/63 [==============================] - 0s 1ms/step\n"
          ]
        }
      ]
    },
    {
      "cell_type": "code",
      "source": [
        "print(y_pred)"
      ],
      "metadata": {
        "colab": {
          "base_uri": "https://localhost:8080/"
        },
        "id": "977NKIsqNgd2",
        "outputId": "87804f7b-13a0-4cd3-ba4d-dbe5c12dea63"
      },
      "execution_count": 19,
      "outputs": [
        {
          "output_type": "stream",
          "name": "stdout",
          "text": [
            "[[False]\n",
            " [False]\n",
            " [False]\n",
            " ...\n",
            " [ True]\n",
            " [False]\n",
            " [False]]\n"
          ]
        }
      ]
    },
    {
      "cell_type": "markdown",
      "source": [
        "# Evaluation Using COnfusion Matrix"
      ],
      "metadata": {
        "id": "xLzQ8T2_NG1c"
      }
    },
    {
      "cell_type": "code",
      "source": [
        "from sklearn.metrics import confusion_matrix, accuracy_score\n",
        "\n",
        "cmat = confusion_matrix(y_test, y_pred)\n",
        "print(cmat)\n",
        "accuracy_score(y_test, y_pred)"
      ],
      "metadata": {
        "colab": {
          "base_uri": "https://localhost:8080/"
        },
        "id": "2kYL4tkaNHDO",
        "outputId": "9969639c-9310-48e8-ae34-b4dc8eaf1bba"
      },
      "execution_count": 20,
      "outputs": [
        {
          "output_type": "stream",
          "name": "stdout",
          "text": [
            "[[1543   64]\n",
            " [ 208  185]]\n"
          ]
        },
        {
          "output_type": "execute_result",
          "data": {
            "text/plain": [
              "0.864"
            ]
          },
          "metadata": {},
          "execution_count": 20
        }
      ]
    }
  ]
}
